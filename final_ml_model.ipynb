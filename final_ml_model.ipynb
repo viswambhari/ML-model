{
  "nbformat": 4,
  "nbformat_minor": 0,
  "metadata": {
    "colab": {
      "name": "final-ml-model.ipynb",
      "provenance": [],
      "include_colab_link": true
    },
    "kernelspec": {
      "name": "python3",
      "display_name": "Python 3"
    },
    "language_info": {
      "name": "python"
    }
  },
  "cells": [
    {
      "cell_type": "markdown",
      "metadata": {
        "id": "view-in-github",
        "colab_type": "text"
      },
      "source": [
        "<a href=\"https://colab.research.google.com/github/viswambhari/ML-model/blob/main/final_ml_model.ipynb\" target=\"_parent\"><img src=\"https://colab.research.google.com/assets/colab-badge.svg\" alt=\"Open In Colab\"/></a>"
      ]
    },
    {
      "cell_type": "code",
      "metadata": {
        "id": "XRMHjLwpv1qO"
      },
      "source": [
        "import pandas as pd\n",
        "import numpy as np\n",
        "import re\n",
        "import sklearn\n",
        "from nltk.stem.porter import PorterStemmer\n",
        "from sklearn.feature_extraction.text import TfidfVectorizer\n",
        "from sklearn.model_selection import train_test_split\n",
        "from sklearn.linear_model import LogisticRegression\n",
        "from sklearn.metrics import accuracy_score\n"
      ],
      "execution_count": null,
      "outputs": []
    },
    {
      "cell_type": "code",
      "metadata": {
        "colab": {
          "base_uri": "https://localhost:8080/"
        },
        "id": "Ylnq-Qdt2yzM",
        "outputId": "0fc2ee62-8711-436b-a303-2075eb49d5a0"
      },
      "source": [
        "import nltk\n",
        "nltk.download(\"stopwords\")"
      ],
      "execution_count": null,
      "outputs": [
        {
          "output_type": "stream",
          "name": "stdout",
          "text": [
            "[nltk_data] Downloading package stopwords to /root/nltk_data...\n",
            "[nltk_data]   Package stopwords is already up-to-date!\n"
          ]
        },
        {
          "output_type": "execute_result",
          "data": {
            "text/plain": [
              "True"
            ]
          },
          "metadata": {},
          "execution_count": 44
        }
      ]
    },
    {
      "cell_type": "code",
      "metadata": {
        "id": "dy93cU-A3JvR"
      },
      "source": [
        "from nltk.corpus import stopwords\n"
      ],
      "execution_count": null,
      "outputs": []
    },
    {
      "cell_type": "code",
      "metadata": {
        "id": "01M2Mw9A8Zhr"
      },
      "source": [
        ""
      ],
      "execution_count": null,
      "outputs": []
    },
    {
      "cell_type": "code",
      "metadata": {
        "id": "_O_npHlY8lGa"
      },
      "source": [
        "news_data= pd.read_csv(\"/content/train.csv\")"
      ],
      "execution_count": null,
      "outputs": []
    },
    {
      "cell_type": "code",
      "metadata": {
        "colab": {
          "base_uri": "https://localhost:8080/"
        },
        "id": "rqjeCPCs9RkJ",
        "outputId": "70c1d91b-76bc-4b7b-8942-300e6fb4b9ca"
      },
      "source": [
        "news_data.shape"
      ],
      "execution_count": null,
      "outputs": [
        {
          "output_type": "execute_result",
          "data": {
            "text/plain": [
              "(20800, 5)"
            ]
          },
          "metadata": {},
          "execution_count": 47
        }
      ]
    },
    {
      "cell_type": "code",
      "metadata": {
        "colab": {
          "base_uri": "https://localhost:8080/",
          "height": 275
        },
        "id": "tWAO9zyA9lBT",
        "outputId": "21e16b30-b4db-4f24-e643-c67e4775958c"
      },
      "source": [
        "news_data.head()"
      ],
      "execution_count": null,
      "outputs": [
        {
          "output_type": "execute_result",
          "data": {
            "text/html": [
              "<div>\n",
              "<style scoped>\n",
              "    .dataframe tbody tr th:only-of-type {\n",
              "        vertical-align: middle;\n",
              "    }\n",
              "\n",
              "    .dataframe tbody tr th {\n",
              "        vertical-align: top;\n",
              "    }\n",
              "\n",
              "    .dataframe thead th {\n",
              "        text-align: right;\n",
              "    }\n",
              "</style>\n",
              "<table border=\"1\" class=\"dataframe\">\n",
              "  <thead>\n",
              "    <tr style=\"text-align: right;\">\n",
              "      <th></th>\n",
              "      <th>id</th>\n",
              "      <th>title</th>\n",
              "      <th>author</th>\n",
              "      <th>text</th>\n",
              "      <th>label</th>\n",
              "    </tr>\n",
              "  </thead>\n",
              "  <tbody>\n",
              "    <tr>\n",
              "      <th>0</th>\n",
              "      <td>0</td>\n",
              "      <td>House Dem Aide: We Didn’t Even See Comey’s Let...</td>\n",
              "      <td>Darrell Lucus</td>\n",
              "      <td>House Dem Aide: We Didn’t Even See Comey’s Let...</td>\n",
              "      <td>1</td>\n",
              "    </tr>\n",
              "    <tr>\n",
              "      <th>1</th>\n",
              "      <td>1</td>\n",
              "      <td>FLYNN: Hillary Clinton, Big Woman on Campus - ...</td>\n",
              "      <td>Daniel J. Flynn</td>\n",
              "      <td>Ever get the feeling your life circles the rou...</td>\n",
              "      <td>0</td>\n",
              "    </tr>\n",
              "    <tr>\n",
              "      <th>2</th>\n",
              "      <td>2</td>\n",
              "      <td>Why the Truth Might Get You Fired</td>\n",
              "      <td>Consortiumnews.com</td>\n",
              "      <td>Why the Truth Might Get You Fired October 29, ...</td>\n",
              "      <td>1</td>\n",
              "    </tr>\n",
              "    <tr>\n",
              "      <th>3</th>\n",
              "      <td>3</td>\n",
              "      <td>15 Civilians Killed In Single US Airstrike Hav...</td>\n",
              "      <td>Jessica Purkiss</td>\n",
              "      <td>Videos 15 Civilians Killed In Single US Airstr...</td>\n",
              "      <td>1</td>\n",
              "    </tr>\n",
              "    <tr>\n",
              "      <th>4</th>\n",
              "      <td>4</td>\n",
              "      <td>Iranian woman jailed for fictional unpublished...</td>\n",
              "      <td>Howard Portnoy</td>\n",
              "      <td>Print \\nAn Iranian woman has been sentenced to...</td>\n",
              "      <td>1</td>\n",
              "    </tr>\n",
              "  </tbody>\n",
              "</table>\n",
              "</div>"
            ],
            "text/plain": [
              "   id  ... label\n",
              "0   0  ...     1\n",
              "1   1  ...     0\n",
              "2   2  ...     1\n",
              "3   3  ...     1\n",
              "4   4  ...     1\n",
              "\n",
              "[5 rows x 5 columns]"
            ]
          },
          "metadata": {},
          "execution_count": 48
        }
      ]
    },
    {
      "cell_type": "code",
      "metadata": {
        "id": "-rqeb1S89uyu"
      },
      "source": [
        "# fake news- 0\n",
        "#real-news- 1"
      ],
      "execution_count": null,
      "outputs": []
    },
    {
      "cell_type": "code",
      "metadata": {
        "colab": {
          "base_uri": "https://localhost:8080/"
        },
        "id": "2pyA0DjF9sUp",
        "outputId": "14a847eb-654a-4b07-f219-6ac406777708"
      },
      "source": [
        "news_data.isnull().sum() \n",
        "#prints missing values"
      ],
      "execution_count": null,
      "outputs": [
        {
          "output_type": "execute_result",
          "data": {
            "text/plain": [
              "id           0\n",
              "title      558\n",
              "author    1957\n",
              "text        39\n",
              "label        0\n",
              "dtype: int64"
            ]
          },
          "metadata": {},
          "execution_count": 50
        }
      ]
    },
    {
      "cell_type": "code",
      "metadata": {
        "id": "VNvgokrZ-Qma"
      },
      "source": [
        "news_data=news_data.fillna(' ') # replacing missing values with 0 and  1"
      ],
      "execution_count": null,
      "outputs": []
    },
    {
      "cell_type": "code",
      "metadata": {
        "colab": {
          "base_uri": "https://localhost:8080/"
        },
        "id": "K_LTz4Ht-vM4",
        "outputId": "8e801903-298c-42a1-faf0-7867bd94a51e"
      },
      "source": [
        "news_data.isnull().sum() #no missing values found"
      ],
      "execution_count": null,
      "outputs": [
        {
          "output_type": "execute_result",
          "data": {
            "text/plain": [
              "id        0\n",
              "title     0\n",
              "author    0\n",
              "text      0\n",
              "label     0\n",
              "dtype: int64"
            ]
          },
          "metadata": {},
          "execution_count": 52
        }
      ]
    },
    {
      "cell_type": "code",
      "metadata": {
        "id": "ic3y5MBJ-yeP"
      },
      "source": [
        "news_data['content']= news_data['title']+ ' '+ news_data['author']#combining title and author as one colun calleld content"
      ],
      "execution_count": null,
      "outputs": []
    },
    {
      "cell_type": "code",
      "metadata": {
        "colab": {
          "base_uri": "https://localhost:8080/"
        },
        "id": "IPalO_gt_x1a",
        "outputId": "28902c77-a96d-4c77-bb85-e30add39c519"
      },
      "source": [
        "print(news_data['content'])"
      ],
      "execution_count": null,
      "outputs": [
        {
          "output_type": "stream",
          "name": "stdout",
          "text": [
            "0        House Dem Aide: We Didn’t Even See Comey’s Let...\n",
            "1        FLYNN: Hillary Clinton, Big Woman on Campus - ...\n",
            "2        Why the Truth Might Get You Fired Consortiumne...\n",
            "3        15 Civilians Killed In Single US Airstrike Hav...\n",
            "4        Iranian woman jailed for fictional unpublished...\n",
            "                               ...                        \n",
            "20795    Rapper T.I.: Trump a ’Poster Child For White S...\n",
            "20796    N.F.L. Playoffs: Schedule, Matchups and Odds -...\n",
            "20797    Macy’s Is Said to Receive Takeover Approach by...\n",
            "20798    NATO, Russia To Hold Parallel Exercises In Bal...\n",
            "20799              What Keeps the F-35 Alive David Swanson\n",
            "Name: content, Length: 20800, dtype: object\n"
          ]
        }
      ]
    },
    {
      "cell_type": "code",
      "metadata": {
        "id": "IIQpNCUCAUNY"
      },
      "source": [
        "X= news_data.drop(columns=\"label\",axis=1)#data without the label \n",
        "Y=news_data['label']#just the label"
      ],
      "execution_count": null,
      "outputs": []
    },
    {
      "cell_type": "code",
      "metadata": {
        "colab": {
          "base_uri": "https://localhost:8080/"
        },
        "id": "coUSe73OB1UK",
        "outputId": "5856d279-df63-4c5f-a943-ce0df278b442"
      },
      "source": [
        "print(X)\n",
        "print(Y)"
      ],
      "execution_count": null,
      "outputs": [
        {
          "output_type": "stream",
          "name": "stdout",
          "text": [
            "          id  ...                                            content\n",
            "0          0  ...  House Dem Aide: We Didn’t Even See Comey’s Let...\n",
            "1          1  ...  FLYNN: Hillary Clinton, Big Woman on Campus - ...\n",
            "2          2  ...  Why the Truth Might Get You Fired Consortiumne...\n",
            "3          3  ...  15 Civilians Killed In Single US Airstrike Hav...\n",
            "4          4  ...  Iranian woman jailed for fictional unpublished...\n",
            "...      ...  ...                                                ...\n",
            "20795  20795  ...  Rapper T.I.: Trump a ’Poster Child For White S...\n",
            "20796  20796  ...  N.F.L. Playoffs: Schedule, Matchups and Odds -...\n",
            "20797  20797  ...  Macy’s Is Said to Receive Takeover Approach by...\n",
            "20798  20798  ...  NATO, Russia To Hold Parallel Exercises In Bal...\n",
            "20799  20799  ...            What Keeps the F-35 Alive David Swanson\n",
            "\n",
            "[20800 rows x 5 columns]\n",
            "0        1\n",
            "1        0\n",
            "2        1\n",
            "3        1\n",
            "4        1\n",
            "        ..\n",
            "20795    0\n",
            "20796    0\n",
            "20797    0\n",
            "20798    1\n",
            "20799    1\n",
            "Name: label, Length: 20800, dtype: int64\n"
          ]
        }
      ]
    },
    {
      "cell_type": "code",
      "metadata": {
        "id": "bCNlHOgXC6pF"
      },
      "source": [
        "port_stem=PorterStemmer()"
      ],
      "execution_count": null,
      "outputs": []
    },
    {
      "cell_type": "code",
      "metadata": {
        "id": "hx8gmORKFRBC"
      },
      "source": [
        "#def stemming(content):\n",
        " # stemmed_content=re.sub('^a-zA-Z', '  ',content) #remove numbers and punctuations\n",
        "  #stemmed_content= stemmed_content.lower()\n",
        "  #stemmed_content= stemmed_content.split()\n",
        "  #stemmed_content=[port_stem.stem(word) for word in stemmed_content if word not in stopwords.words('english')]\n",
        "  #stemmed_content=' '.join(stemmed_content)\n",
        "  #return stemmed_content"
      ],
      "execution_count": null,
      "outputs": []
    },
    {
      "cell_type": "code",
      "metadata": {
        "id": "LKyLKIIXYrAh"
      },
      "source": [
        "def stemming(content):\n",
        "    stemmed_content = re.sub('[^a-zA-Z]',' ',content)\n",
        "    stemmed_content = stemmed_content.lower()\n",
        "    stemmed_content = stemmed_content.split()\n",
        "    stemmed_content = [port_stem.stem(word) for word in stemmed_content if not word in stopwords.words('english')]\n",
        "    stemmed_content = ' '.join(stemmed_content)\n",
        "    return stemmed_content"
      ],
      "execution_count": null,
      "outputs": []
    },
    {
      "cell_type": "code",
      "metadata": {
        "id": "N8e_EXm8BywM"
      },
      "source": [
        "news_data['content']=news_data['content'].apply(stemming)"
      ],
      "execution_count": null,
      "outputs": []
    },
    {
      "cell_type": "code",
      "metadata": {
        "colab": {
          "base_uri": "https://localhost:8080/"
        },
        "id": "cA0Lvi-vMhRh",
        "outputId": "c61be6f7-589f-482d-d652-4797ebe82b19"
      },
      "source": [
        "print (news_data['content'])"
      ],
      "execution_count": null,
      "outputs": [
        {
          "output_type": "stream",
          "name": "stdout",
          "text": [
            "0        hous dem aid even see comey letter jason chaff...\n",
            "1        flynn hillari clinton big woman campu breitbar...\n",
            "2                   truth might get fire consortiumnew com\n",
            "3        civilian kill singl us airstrik identifi jessi...\n",
            "4        iranian woman jail fiction unpublish stori wom...\n",
            "                               ...                        \n",
            "20795    rapper trump poster child white supremaci jero...\n",
            "20796    n f l playoff schedul matchup odd new york tim...\n",
            "20797    maci said receiv takeov approach hudson bay ne...\n",
            "20798    nato russia hold parallel exercis balkan alex ...\n",
            "20799                            keep f aliv david swanson\n",
            "Name: content, Length: 20800, dtype: object\n"
          ]
        }
      ]
    },
    {
      "cell_type": "code",
      "metadata": {
        "id": "Bn7UiB1JYTaU"
      },
      "source": [
        "#separating the data and label\n",
        "X = news_data['content'].values\n",
        "Y = news_data['label'].values"
      ],
      "execution_count": null,
      "outputs": []
    },
    {
      "cell_type": "code",
      "metadata": {
        "colab": {
          "base_uri": "https://localhost:8080/"
        },
        "id": "mvLNwY6rYR22",
        "outputId": "78592fcd-feaa-497f-e2bb-c8dfa879a005"
      },
      "source": [
        "print(X)"
      ],
      "execution_count": null,
      "outputs": [
        {
          "output_type": "stream",
          "name": "stdout",
          "text": [
            "['hous dem aid even see comey letter jason chaffetz tweet darrel lucu'\n",
            " 'flynn hillari clinton big woman campu breitbart daniel j flynn'\n",
            " 'truth might get fire consortiumnew com' ...\n",
            " 'maci said receiv takeov approach hudson bay new york time michael j de la merc rachel abram'\n",
            " 'nato russia hold parallel exercis balkan alex ansari'\n",
            " 'keep f aliv david swanson']\n"
          ]
        }
      ]
    },
    {
      "cell_type": "code",
      "metadata": {
        "colab": {
          "base_uri": "https://localhost:8080/"
        },
        "id": "wkQFyXx8aIc2",
        "outputId": "128627d8-d417-4ad1-8c37-9e68bbaa2ac9"
      },
      "source": [
        "print (Y)"
      ],
      "execution_count": null,
      "outputs": [
        {
          "output_type": "stream",
          "name": "stdout",
          "text": [
            "[1 0 1 ... 0 1 1]\n"
          ]
        }
      ]
    },
    {
      "cell_type": "code",
      "metadata": {
        "colab": {
          "base_uri": "https://localhost:8080/"
        },
        "id": "wCshoXl_aKJk",
        "outputId": "23ff2819-c37f-4137-edaa-73f4c9971ddb"
      },
      "source": [
        "Y.shape\n"
      ],
      "execution_count": null,
      "outputs": [
        {
          "output_type": "execute_result",
          "data": {
            "text/plain": [
              "(20800,)"
            ]
          },
          "metadata": {},
          "execution_count": 65
        }
      ]
    },
    {
      "cell_type": "code",
      "metadata": {
        "id": "tE7GWZdwaOa6"
      },
      "source": [
        "#convert text into numerical\n",
        "vectorizer = TfidfVectorizer()\n",
        "vectorizer.fit(X)#fitting the data\n",
        "X = vectorizer.transform(X)#transforming it into numbers"
      ],
      "execution_count": null,
      "outputs": []
    },
    {
      "cell_type": "code",
      "metadata": {
        "colab": {
          "base_uri": "https://localhost:8080/"
        },
        "id": "sDNAelZ8aMsr",
        "outputId": "1da91170-04be-49a6-e246-0b1c7ef53bf3"
      },
      "source": [
        "print(X)"
      ],
      "execution_count": null,
      "outputs": [
        {
          "output_type": "stream",
          "name": "stdout",
          "text": [
            "  (0, 15686)\t0.28485063562728646\n",
            "  (0, 13473)\t0.2565896679337957\n",
            "  (0, 8909)\t0.3635963806326075\n",
            "  (0, 8630)\t0.29212514087043684\n",
            "  (0, 7692)\t0.24785219520671603\n",
            "  (0, 7005)\t0.21874169089359144\n",
            "  (0, 4973)\t0.233316966909351\n",
            "  (0, 3792)\t0.2705332480845492\n",
            "  (0, 3600)\t0.3598939188262559\n",
            "  (0, 2959)\t0.2468450128533713\n",
            "  (0, 2483)\t0.3676519686797209\n",
            "  (0, 267)\t0.27010124977708766\n",
            "  (1, 16799)\t0.30071745655510157\n",
            "  (1, 6816)\t0.1904660198296849\n",
            "  (1, 5503)\t0.7143299355715573\n",
            "  (1, 3568)\t0.26373768806048464\n",
            "  (1, 2813)\t0.19094574062359204\n",
            "  (1, 2223)\t0.3827320386859759\n",
            "  (1, 1894)\t0.15521974226349364\n",
            "  (1, 1497)\t0.2939891562094648\n",
            "  (2, 15611)\t0.41544962664721613\n",
            "  (2, 9620)\t0.49351492943649944\n",
            "  (2, 5968)\t0.3474613386728292\n",
            "  (2, 5389)\t0.3866530551182615\n",
            "  (2, 3103)\t0.46097489583229645\n",
            "  :\t:\n",
            "  (20797, 13122)\t0.2482526352197606\n",
            "  (20797, 12344)\t0.27263457663336677\n",
            "  (20797, 12138)\t0.24778257724396507\n",
            "  (20797, 10306)\t0.08038079000566466\n",
            "  (20797, 9588)\t0.174553480255222\n",
            "  (20797, 9518)\t0.2954204003420313\n",
            "  (20797, 8988)\t0.36160868928090795\n",
            "  (20797, 8364)\t0.22322585870464118\n",
            "  (20797, 7042)\t0.21799048897828688\n",
            "  (20797, 3643)\t0.21155500613623743\n",
            "  (20797, 1287)\t0.33538056804139865\n",
            "  (20797, 699)\t0.30685846079762347\n",
            "  (20797, 43)\t0.29710241860700626\n",
            "  (20798, 13046)\t0.22363267488270608\n",
            "  (20798, 11052)\t0.4460515589182236\n",
            "  (20798, 10177)\t0.3192496370187028\n",
            "  (20798, 6889)\t0.32496285694299426\n",
            "  (20798, 5032)\t0.4083701450239529\n",
            "  (20798, 1125)\t0.4460515589182236\n",
            "  (20798, 588)\t0.3112141524638974\n",
            "  (20798, 350)\t0.28446937819072576\n",
            "  (20799, 14852)\t0.5677577267055112\n",
            "  (20799, 8036)\t0.45983893273780013\n",
            "  (20799, 3623)\t0.37927626273066584\n",
            "  (20799, 377)\t0.5677577267055112\n"
          ]
        }
      ]
    },
    {
      "cell_type": "code",
      "metadata": {
        "id": "i3qxv2NvcHwp"
      },
      "source": [
        ""
      ],
      "execution_count": null,
      "outputs": []
    },
    {
      "cell_type": "markdown",
      "metadata": {
        "id": "FKLMhyBocI4b"
      },
      "source": [
        "splitting data into two datsets\n"
      ]
    },
    {
      "cell_type": "code",
      "metadata": {
        "id": "EFlF_eXWbZkd"
      },
      "source": [
        "x_train, x_test, y_train, y_test = train_test_split(X, Y, test_size=0.2, random_state=2, stratify=Y)"
      ],
      "execution_count": null,
      "outputs": []
    },
    {
      "cell_type": "code",
      "metadata": {
        "id": "zp80YmRZ9IqV"
      },
      "source": [
        "\n",
        "\n"
      ],
      "execution_count": null,
      "outputs": []
    },
    {
      "cell_type": "code",
      "metadata": {
        "id": "xW5uh4Hje40o"
      },
      "source": [
        "model = LogisticRegression()"
      ],
      "execution_count": null,
      "outputs": []
    },
    {
      "cell_type": "code",
      "metadata": {
        "colab": {
          "base_uri": "https://localhost:8080/"
        },
        "id": "ZFYju9U4e5t6",
        "outputId": "5a1e5506-a226-4cc0-eded-f320207ef206"
      },
      "source": [
        "model.fit(x_train, y_train)"
      ],
      "execution_count": null,
      "outputs": [
        {
          "output_type": "execute_result",
          "data": {
            "text/plain": [
              "LogisticRegression()"
            ]
          },
          "metadata": {},
          "execution_count": 70
        }
      ]
    },
    {
      "cell_type": "code",
      "metadata": {
        "id": "UkKpaRarjsXG"
      },
      "source": [
        "#training data accuracy"
      ],
      "execution_count": null,
      "outputs": []
    },
    {
      "cell_type": "code",
      "metadata": {
        "id": "QyXWZnuMjqfq"
      },
      "source": [
        "x_train_prediction = model.predict(x_train)\n",
        "training_data_accuracy = accuracy_score(x_train_prediction, y_train)"
      ],
      "execution_count": null,
      "outputs": []
    },
    {
      "cell_type": "code",
      "metadata": {
        "colab": {
          "base_uri": "https://localhost:8080/"
        },
        "id": "y32sMx1jky0R",
        "outputId": "2f72066f-e093-4009-a8b7-f7d1008d71d8"
      },
      "source": [
        "print(training_data_accuracy)"
      ],
      "execution_count": null,
      "outputs": [
        {
          "output_type": "stream",
          "name": "stdout",
          "text": [
            "0.9865985576923076\n"
          ]
        }
      ]
    },
    {
      "cell_type": "code",
      "metadata": {
        "id": "SEH__2uvk2RS"
      },
      "source": [
        "#testing data accuracy\n"
      ],
      "execution_count": null,
      "outputs": []
    },
    {
      "cell_type": "code",
      "metadata": {
        "id": "LXgfYYDtlS7l"
      },
      "source": [
        "x_test_prediction = model.predict(x_test)\n",
        "test_data_accuracy = accuracy_score(x_test_prediction, y_test)"
      ],
      "execution_count": null,
      "outputs": []
    },
    {
      "cell_type": "code",
      "metadata": {
        "colab": {
          "base_uri": "https://localhost:8080/"
        },
        "id": "2Ed0HUlDlaop",
        "outputId": "9c8164f3-b619-498e-cf3c-2e3728f29835"
      },
      "source": [
        "print(test_data_accuracy)"
      ],
      "execution_count": null,
      "outputs": [
        {
          "output_type": "stream",
          "name": "stdout",
          "text": [
            "0.9790865384615385\n"
          ]
        }
      ]
    },
    {
      "cell_type": "code",
      "metadata": {
        "colab": {
          "base_uri": "https://localhost:8080/"
        },
        "id": "-7EQxLfQwaag",
        "outputId": "da27f8e1-b5de-42ef-f038-435c66841c33"
      },
      "source": [
        "\n",
        "x_new = x_test[5]\n",
        "prediction = model.predict(x_new)\n",
        "print(prediction)\n",
        "if (prediction[0]==0):\n",
        "  print('The news is Real')\n",
        "else:\n",
        "  print('The news is Fake')"
      ],
      "execution_count": null,
      "outputs": [
        {
          "output_type": "stream",
          "name": "stdout",
          "text": [
            "[1]\n",
            "The news is Fake\n"
          ]
        }
      ]
    },
    {
      "cell_type": "code",
      "metadata": {
        "colab": {
          "base_uri": "https://localhost:8080/"
        },
        "id": "Rew23_0Jw70I",
        "outputId": "7776c7b2-ad5e-492c-ec6e-63afda2c0568"
      },
      "source": [
        "from nltk.corpus import stopwords\n",
        "stop_words=stopwords.words('english')\n",
        "news_data['inlower']=news_data['content'].apply(lambda x:\" \".join(word.lower() for word in x.split()))\n",
        "news_data['punctuations']=news_data['inlower'].str.replace('[^\\w\\s]','')\n",
        "news_data['stopwords']=news_data['punctuations'].apply(lambda x:\" \".join(word for word in x.split() if word not in stop_words))\n",
        "from textblob import Word \n",
        "import nltk\n",
        "nltk.download('wordnet')\n",
        "news_data['lemmatized']=news_data['stopwords'].apply(lambda x:\" \".join(Word(word).lemmatize() for word in x.split()))\n",
        "from textblob import TextBlob\n",
        "news_data['polarity']=news_data['lemmatized'].apply(lambda x:TextBlob(x).sentiment[0])\n",
        "news_data['subjectivity']=news_data['lemmatized'].apply(lambda x:TextBlob(x).sentiment[1])\n"
      ],
      "execution_count": null,
      "outputs": [
        {
          "output_type": "stream",
          "name": "stdout",
          "text": [
            "[nltk_data] Downloading package wordnet to /root/nltk_data...\n",
            "[nltk_data]   Package wordnet is already up-to-date!\n"
          ]
        }
      ]
    },
    {
      "cell_type": "code",
      "metadata": {
        "colab": {
          "base_uri": "https://localhost:8080/",
          "height": 729
        },
        "id": "XPzFNjZKtei1",
        "outputId": "8432229b-0d2b-4197-992e-4ec79a1ac46c"
      },
      "source": [
        "news_data.head()"
      ],
      "execution_count": null,
      "outputs": [
        {
          "output_type": "execute_result",
          "data": {
            "text/html": [
              "<div>\n",
              "<style scoped>\n",
              "    .dataframe tbody tr th:only-of-type {\n",
              "        vertical-align: middle;\n",
              "    }\n",
              "\n",
              "    .dataframe tbody tr th {\n",
              "        vertical-align: top;\n",
              "    }\n",
              "\n",
              "    .dataframe thead th {\n",
              "        text-align: right;\n",
              "    }\n",
              "</style>\n",
              "<table border=\"1\" class=\"dataframe\">\n",
              "  <thead>\n",
              "    <tr style=\"text-align: right;\">\n",
              "      <th></th>\n",
              "      <th>id</th>\n",
              "      <th>title</th>\n",
              "      <th>author</th>\n",
              "      <th>text</th>\n",
              "      <th>label</th>\n",
              "      <th>content</th>\n",
              "      <th>inlower</th>\n",
              "      <th>punctuations</th>\n",
              "      <th>stopwords</th>\n",
              "      <th>lemmatized</th>\n",
              "      <th>polarity</th>\n",
              "      <th>subjectivity</th>\n",
              "    </tr>\n",
              "  </thead>\n",
              "  <tbody>\n",
              "    <tr>\n",
              "      <th>0</th>\n",
              "      <td>0</td>\n",
              "      <td>House Dem Aide: We Didn’t Even See Comey’s Let...</td>\n",
              "      <td>Darrell Lucus</td>\n",
              "      <td>House Dem Aide: We Didn’t Even See Comey’s Let...</td>\n",
              "      <td>1</td>\n",
              "      <td>hous dem aid even see comey letter jason chaff...</td>\n",
              "      <td>hous dem aid even see comey letter jason chaff...</td>\n",
              "      <td>hous dem aid even see comey letter jason chaff...</td>\n",
              "      <td>hous dem aid even see comey letter jason chaff...</td>\n",
              "      <td>hous dem aid even see comey letter jason chaff...</td>\n",
              "      <td>0.0</td>\n",
              "      <td>0.0</td>\n",
              "    </tr>\n",
              "    <tr>\n",
              "      <th>1</th>\n",
              "      <td>1</td>\n",
              "      <td>FLYNN: Hillary Clinton, Big Woman on Campus - ...</td>\n",
              "      <td>Daniel J. Flynn</td>\n",
              "      <td>Ever get the feeling your life circles the rou...</td>\n",
              "      <td>0</td>\n",
              "      <td>flynn hillari clinton big woman campu breitbar...</td>\n",
              "      <td>flynn hillari clinton big woman campu breitbar...</td>\n",
              "      <td>flynn hillari clinton big woman campu breitbar...</td>\n",
              "      <td>flynn hillari clinton big woman campu breitbar...</td>\n",
              "      <td>flynn hillari clinton big woman campu breitbar...</td>\n",
              "      <td>0.0</td>\n",
              "      <td>0.1</td>\n",
              "    </tr>\n",
              "    <tr>\n",
              "      <th>2</th>\n",
              "      <td>2</td>\n",
              "      <td>Why the Truth Might Get You Fired</td>\n",
              "      <td>Consortiumnews.com</td>\n",
              "      <td>Why the Truth Might Get You Fired October 29, ...</td>\n",
              "      <td>1</td>\n",
              "      <td>truth might get fire consortiumnew com</td>\n",
              "      <td>truth might get fire consortiumnew com</td>\n",
              "      <td>truth might get fire consortiumnew com</td>\n",
              "      <td>truth might get fire consortiumnew com</td>\n",
              "      <td>truth might get fire consortiumnew com</td>\n",
              "      <td>0.0</td>\n",
              "      <td>0.0</td>\n",
              "    </tr>\n",
              "    <tr>\n",
              "      <th>3</th>\n",
              "      <td>3</td>\n",
              "      <td>15 Civilians Killed In Single US Airstrike Hav...</td>\n",
              "      <td>Jessica Purkiss</td>\n",
              "      <td>Videos 15 Civilians Killed In Single US Airstr...</td>\n",
              "      <td>1</td>\n",
              "      <td>civilian kill singl us airstrik identifi jessi...</td>\n",
              "      <td>civilian kill singl us airstrik identifi jessi...</td>\n",
              "      <td>civilian kill singl us airstrik identifi jessi...</td>\n",
              "      <td>civilian kill singl us airstrik identifi jessi...</td>\n",
              "      <td>civilian kill singl u airstrik identifi jessic...</td>\n",
              "      <td>0.0</td>\n",
              "      <td>0.0</td>\n",
              "    </tr>\n",
              "    <tr>\n",
              "      <th>4</th>\n",
              "      <td>4</td>\n",
              "      <td>Iranian woman jailed for fictional unpublished...</td>\n",
              "      <td>Howard Portnoy</td>\n",
              "      <td>Print \\nAn Iranian woman has been sentenced to...</td>\n",
              "      <td>1</td>\n",
              "      <td>iranian woman jail fiction unpublish stori wom...</td>\n",
              "      <td>iranian woman jail fiction unpublish stori wom...</td>\n",
              "      <td>iranian woman jail fiction unpublish stori wom...</td>\n",
              "      <td>iranian woman jail fiction unpublish stori wom...</td>\n",
              "      <td>iranian woman jail fiction unpublish stori wom...</td>\n",
              "      <td>-0.1</td>\n",
              "      <td>0.0</td>\n",
              "    </tr>\n",
              "  </tbody>\n",
              "</table>\n",
              "</div>"
            ],
            "text/plain": [
              "   id  ... subjectivity\n",
              "0   0  ...          0.0\n",
              "1   1  ...          0.1\n",
              "2   2  ...          0.0\n",
              "3   3  ...          0.0\n",
              "4   4  ...          0.0\n",
              "\n",
              "[5 rows x 12 columns]"
            ]
          },
          "metadata": {},
          "execution_count": 79
        }
      ]
    },
    {
      "cell_type": "code",
      "metadata": {
        "colab": {
          "base_uri": "https://localhost:8080/"
        },
        "id": "EkAl8uJF5q69",
        "outputId": "83d34224-dbd0-4b00-c430-78acbb9f953e"
      },
      "source": [
        "x_new = x_test[3]\n",
        "\n",
        "prediction = model.predict(x_new)\n",
        "print(prediction)\n",
        "\n",
        "if (prediction==0):\n",
        "  print('The news is Real')\n",
        "else:\n",
        "  print('The news is Fake')"
      ],
      "execution_count": null,
      "outputs": [
        {
          "output_type": "stream",
          "name": "stdout",
          "text": [
            "[0]\n",
            "The news is Real\n"
          ]
        }
      ]
    },
    {
      "cell_type": "code",
      "metadata": {
        "id": "5duDdjeh-xjF"
      },
      "source": [
        "import pickle\n",
        "pickle.dump(model, open('model2.pkl', 'wb'))\n",
        "pickle.dump(vectorizer, open('tfidfvect2.pkl', 'wb'))"
      ],
      "execution_count": null,
      "outputs": []
    },
    {
      "cell_type": "code",
      "metadata": {
        "colab": {
          "base_uri": "https://localhost:8080/"
        },
        "id": "2IoQj2hTAYfK",
        "outputId": "dbf44186-caa4-46b4-bd7a-cb54a7f00db7"
      },
      "source": [
        "stemmed_content = re.sub('[^a-zA-Z]',' ','content')\n",
        "stemmed_content = stemmed_content.lower()\n",
        "stemmed_content = stemmed_content.split()\n",
        "stemmed_content = [port_stem.stem(word) for word in stemmed_content if not word in stopwords.words('english')]\n",
        "stemmed_content = ' '.join(stemmed_content)\n",
        "val = vectorizer.transform([stemmed_content]).toarray()\n",
        "model.predict(val)\n"
      ],
      "execution_count": null,
      "outputs": [
        {
          "output_type": "execute_result",
          "data": {
            "text/plain": [
              "array([1])"
            ]
          },
          "metadata": {},
          "execution_count": 82
        }
      ]
    },
    {
      "cell_type": "code",
      "metadata": {
        "colab": {
          "base_uri": "https://localhost:8080/"
        },
        "id": "9QaVsW8d-vuy",
        "outputId": "105383bf-1578-4a40-dc32-cd491a2b6520"
      },
      "source": [
        "joblib_model = pickle.load(open('model2.pkl', 'rb'))\n",
        "joblib_vect = pickle.load(open('tfidfvect2.pkl', 'rb'))\n",
        "val_pkl = joblib_vect.transform([stemmed_content]).toarray()\n",
        "joblib_model.predict(val_pkl)"
      ],
      "execution_count": null,
      "outputs": [
        {
          "output_type": "execute_result",
          "data": {
            "text/plain": [
              "array([1])"
            ]
          },
          "metadata": {},
          "execution_count": 83
        }
      ]
    }
  ]
}